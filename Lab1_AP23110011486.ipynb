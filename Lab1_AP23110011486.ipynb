{
  "cells": [
    {
      "cell_type": "markdown",
      "id": "20dc80e4",
      "metadata": {
        "id": "20dc80e4"
      },
      "source": [
        "# 🧑‍💻 NumPy Complete Guided Project\n",
        "**Instructor / Student Colab Notebook** – covers *all* key concepts from `Numpy‑1` to `Numpy‑5`.\n",
        "\n",
        "*Generated: 08 Aug 2025*"
      ]
    },
    {
      "cell_type": "markdown",
      "id": "e8b8b6cf",
      "metadata": {
        "id": "e8b8b6cf"
      },
      "source": [
        "\n",
        "**Table of Contents**\n",
        "\n",
        "1. [Setup](#setup)  \n",
        "2. [Array Creation & Dtypes](#creation)  \n",
        "3. [Array Attributes & Inspection](#attributes)  \n",
        "4. [Indexing, Slicing, Fancy Indexing](#indexing)  \n",
        "5. [Reshaping, Transpose & Copies vs Views](#reshape)  \n",
        "6. [Joining, Splitting, Set & Sorting Ops](#join)  \n",
        "7. [Arithmetic Ops, Universal Functions](#arithmetic)  \n",
        "8. [Broadcasting (Rules + Examples)](#broadcast)  \n",
        "9. [Statistics & Aggregations](#stats)  \n",
        "10. [Random Numbers & Reproducibility](#random)  \n",
        "11. [Structured / Recarrays](#structured)  \n",
        "12. [Linear Algebra Essentials](#linalg)  \n",
        "13. [File I/O (`npy`, `npz`, `txt`)](#io)  \n",
        "14. [Datetime64 & Timedelta64](#datetime)  \n",
        "15. [Masked Arrays & NaNs](#mask)  \n",
        "16. [Mini‑Project — Fitness Data Analysis](#project)  \n",
        "17. [Conclusion & Next Steps](#conclusion)  \n"
      ]
    },
    {
      "cell_type": "markdown",
      "id": "9170f3ee",
      "metadata": {
        "id": "9170f3ee"
      },
      "source": [
        "## <a name='setup'></a>1️⃣ Setup"
      ]
    },
    {
      "cell_type": "code",
      "execution_count": null,
      "id": "4f54988f",
      "metadata": {
        "colab": {
          "base_uri": "https://localhost:8080/"
        },
        "id": "4f54988f",
        "outputId": "1b4946a5-6ff3-46d9-fe04-e5eead6606d3"
      },
      "outputs": [
        {
          "output_type": "stream",
          "name": "stdout",
          "text": [
            "NumPy version: 2.0.2\n"
          ]
        }
      ],
      "source": [
        "import numpy as np, math, os, pathlib, types, textwrap, random\n",
        "print('NumPy version:', np.__version__)"
      ]
    },
    {
      "cell_type": "markdown",
      "id": "c7f7b2c8",
      "metadata": {
        "id": "c7f7b2c8"
      },
      "source": [
        "## <a name='creation'></a>2️⃣ Array Creation & Dtypes"
      ]
    },
    {
      "cell_type": "markdown",
      "id": "47405152",
      "metadata": {
        "id": "47405152"
      },
      "source": [
        "Key functions: `np.array`, `np.arange`, `np.linspace`, `zeros`, `ones`, `full`, `eye`, `identity`, `diag`, `empty`"
      ]
    },
    {
      "cell_type": "code",
      "execution_count": null,
      "id": "801e99ad",
      "metadata": {
        "colab": {
          "base_uri": "https://localhost:8080/"
        },
        "id": "801e99ad",
        "outputId": "385f9332-4100-481b-f4fa-365a9c6e6aa9"
      },
      "outputs": [
        {
          "output_type": "stream",
          "name": "stdout",
          "text": [
            "[1 2 3]\n",
            "[0.  0.2 0.4 0.6 0.8 1. ]\n",
            "[[7.5 7.5 7.5]\n",
            " [7.5 7.5 7.5]]\n",
            "dtypes: int32 float64\n"
          ]
        }
      ],
      "source": [
        "# EXAMPLE\n",
        "arr1 = np.array([1, 2, 3], dtype=np.int32)\n",
        "arr2 = np.linspace(0, 1, 6)\n",
        "arr3 = np.full((2,3), 7.5)\n",
        "print(arr1, arr2, arr3, sep=\"\\n\")\n",
        "print(\"dtypes:\", arr1.dtype, arr2.dtype)\n"
      ]
    },
    {
      "cell_type": "code",
      "source": [
        "import numpy as np\n",
        "\n",
        "chessboard = np.zeros((10,10), dtype=int)\n",
        "chessboard[1::2,::2]=1\n",
        "chessboard[::2,1::2]=1\n",
        "print(chessboard)\n",
        "\n",
        "\n"
      ],
      "metadata": {
        "colab": {
          "base_uri": "https://localhost:8080/"
        },
        "id": "I7vsjRdqz9sO",
        "outputId": "0775dd3b-a02c-4476-e2d1-6945630d6793"
      },
      "id": "I7vsjRdqz9sO",
      "execution_count": null,
      "outputs": [
        {
          "output_type": "stream",
          "name": "stdout",
          "text": [
            "[[0 1 0 1 0 1 0 1 0 1]\n",
            " [1 0 1 0 1 0 1 0 1 0]\n",
            " [0 1 0 1 0 1 0 1 0 1]\n",
            " [1 0 1 0 1 0 1 0 1 0]\n",
            " [0 1 0 1 0 1 0 1 0 1]\n",
            " [1 0 1 0 1 0 1 0 1 0]\n",
            " [0 1 0 1 0 1 0 1 0 1]\n",
            " [1 0 1 0 1 0 1 0 1 0]\n",
            " [0 1 0 1 0 1 0 1 0 1]\n",
            " [1 0 1 0 1 0 1 0 1 0]]\n"
          ]
        }
      ]
    },
    {
      "cell_type": "code",
      "execution_count": null,
      "id": "dc63d076",
      "metadata": {
        "id": "dc63d076"
      },
      "outputs": [],
      "source": [
        "# 🖊️ TODO: create a 10×10 chessboard pattern using zeros & ones\n"
      ]
    },
    {
      "cell_type": "markdown",
      "id": "925be762",
      "metadata": {
        "id": "925be762"
      },
      "source": [
        "## <a name='attributes'></a>3️⃣ Array Attributes & Inspection"
      ]
    },
    {
      "cell_type": "markdown",
      "id": "f103bb36",
      "metadata": {
        "id": "f103bb36"
      },
      "source": [
        "`shape`, `ndim`, `size`, `dtype`, `itemsize`, `nbytes`"
      ]
    },
    {
      "cell_type": "code",
      "execution_count": null,
      "id": "ad3eeda1",
      "metadata": {
        "id": "ad3eeda1",
        "colab": {
          "base_uri": "https://localhost:8080/"
        },
        "outputId": "24cdc36d-1d00-4e91-f971-09bab8401038"
      },
      "outputs": [
        {
          "output_type": "stream",
          "name": "stdout",
          "text": [
            "shape (3, 4) ndim 2 size 12 itemsize 8 total bytes 96\n"
          ]
        }
      ],
      "source": [
        "M = np.arange(12).reshape(3,4)\n",
        "print('shape', M.shape, 'ndim', M.ndim, 'size', M.size, 'itemsize', M.itemsize, 'total bytes', M.nbytes)\n"
      ]
    },
    {
      "cell_type": "code",
      "execution_count": 11,
      "id": "5875fefe",
      "metadata": {
        "id": "5875fefe",
        "colab": {
          "base_uri": "https://localhost:8080/"
        },
        "outputId": "7bd43e85-419c-46fc-edc1-243917a0777c"
      },
      "outputs": [
        {
          "output_type": "stream",
          "name": "stdout",
          "text": [
            "8000000\n",
            "7.62939453125\n"
          ]
        }
      ],
      "source": [
        "# 🖊️ TODO: check memory footprint of a 1000×1000 float64 array\n",
        "import numpy as np\n",
        "a= np.zeros((1000,1000), dtype=np.float64)\n",
        "print(a.nbytes)\n",
        "print(a.nbytes/1024 ** 2)\n"
      ]
    },
    {
      "cell_type": "markdown",
      "id": "bd895660",
      "metadata": {
        "id": "bd895660"
      },
      "source": [
        "## <a name='indexing'></a>4️⃣ Indexing, Slicing & Fancy Indexing"
      ]
    },
    {
      "cell_type": "code",
      "execution_count": null,
      "id": "5dc7d4c1",
      "metadata": {
        "id": "5dc7d4c1"
      },
      "outputs": [],
      "source": [
        "a = np.arange(1,26).reshape(5,5)\n",
        "print(a[:, 0])\n",
        "print(a[::2, ::2])\n",
        "mask = (a % 3 == 0)\n",
        "print('multiples of 3:', a[mask])\n"
      ]
    },
    {
      "cell_type": "code",
      "execution_count": null,
      "id": "9c4bd5f4",
      "metadata": {
        "id": "9c4bd5f4",
        "colab": {
          "base_uri": "https://localhost:8080/"
        },
        "outputId": "8cfb575d-3012-417b-ea26-5d04db04c94a"
      },
      "outputs": [
        {
          "output_type": "stream",
          "name": "stdout",
          "text": [
            "[[7 8 9]\n",
            " [4 5 6]\n",
            " [1 2 3]]\n"
          ]
        }
      ],
      "source": [
        "# 🖊️ TODO: use fancy indexing to swap first and last rows of `a`\n",
        "import numpy as np\n",
        "\n",
        "\n",
        "a = np.array([[1, 2, 3],\n",
        "              [4, 5, 6],\n",
        "              [7, 8, 9]])\n",
        "\n",
        "\n",
        "a[[0, -1]] = a[[-1, 0]]\n",
        "\n",
        "print(a)\n"
      ]
    },
    {
      "cell_type": "markdown",
      "id": "8f4de1d5",
      "metadata": {
        "id": "8f4de1d5"
      },
      "source": [
        "## <a name='reshape'></a>5️⃣ Reshaping, Transpose & Copies vs Views"
      ]
    },
    {
      "cell_type": "code",
      "execution_count": null,
      "id": "053b4ff4",
      "metadata": {
        "id": "053b4ff4"
      },
      "outputs": [],
      "source": [
        "b = np.arange(8)\n",
        "B = b.reshape(2,4)\n",
        "B[0,0] = 99\n",
        "print('b is modified:', b)\n",
        "C = b.reshape(2,4).copy()\n",
        "C[0,0] = -1\n",
        "print('b unchanged with copy:', b)\n"
      ]
    },
    {
      "cell_type": "code",
      "execution_count": 12,
      "id": "a3e599bd",
      "metadata": {
        "id": "a3e599bd",
        "colab": {
          "base_uri": "https://localhost:8080/"
        },
        "outputId": "8a714b97-3ccd-4091-f8a3-a4e266b3d459"
      },
      "outputs": [
        {
          "output_type": "stream",
          "name": "stdout",
          "text": [
            "Original 3D array:\n",
            " [[[ 0  1  2  3]\n",
            "  [ 4  5  6  7]\n",
            "  [ 8  9 10 11]]\n",
            "\n",
            " [[12 13 14 15]\n",
            "  [16 17 18 19]\n",
            "  [20 21 22 23]]]\n",
            "\n",
            "Flattened with ravel():\n",
            " [ 0  1  2  3  4  5  6  7  8  9 10 11 12 13 14 15 16 17 18 19 20 21 22 23]\n",
            "\n",
            "Flattened with flatten():\n",
            " [ 0  1  2  3  4  5  6  7  8  9 10 11 12 13 14 15 16 17 18 19 20 21 22 23]\n",
            "\n",
            "After modifying a[0,0,0] = 999:\n",
            "\n",
            "ravel() result reflects change (view):\n",
            " [999   1   2   3   4   5   6   7   8   9  10  11  12  13  14  15  16  17\n",
            "  18  19  20  21  22  23]\n",
            "\n",
            "flatten() result does NOT reflect change (copy):\n",
            " [ 0  1  2  3  4  5  6  7  8  9 10 11 12 13 14 15 16 17 18 19 20 21 22 23]\n"
          ]
        }
      ],
      "source": [
        "# 🖊️ TODO: Flatten a 3‑D array into 1‑D using both `ravel` and `flatten`; observe copy vs view.\n",
        "import numpy as np\n",
        "\n",
        "\n",
        "a = np.arange(24).reshape((2, 3, 4))\n",
        "print(\"Original 3D array:\\n\", a)\n",
        "\n",
        "\n",
        "ravel_arr = a.ravel()\n",
        "print(\"\\nFlattened with ravel():\\n\", ravel_arr)\n",
        "\n",
        "\n",
        "flatten_arr = a.flatten()\n",
        "print(\"\\nFlattened with flatten():\\n\", flatten_arr)\n",
        "\n",
        "a[0, 0, 0] = 999\n",
        "print(\"\\nAfter modifying a[0,0,0] = 999:\")\n",
        "\n",
        "print(\"\\nravel() result reflects change (view):\\n\", ravel_arr)\n",
        "print(\"\\nflatten() result does NOT reflect change (copy):\\n\", flatten_arr)\n"
      ]
    },
    {
      "cell_type": "markdown",
      "id": "2390c4ae",
      "metadata": {
        "id": "2390c4ae"
      },
      "source": [
        "## <a name='join'></a>6️⃣ Joining, Splitting, Set & Sorting Ops"
      ]
    },
    {
      "cell_type": "code",
      "execution_count": null,
      "id": "a53f640a",
      "metadata": {
        "id": "a53f640a"
      },
      "outputs": [],
      "source": [
        "x = np.array([1,3,5]); y = np.array([2,4,6])\n",
        "xy = np.concatenate([x,y])\n",
        "print('union', np.union1d(x,y))\n",
        "print('intersect', np.intersect1d(xy,[1,2,10]))\n",
        "print('sorted descending', np.sort(xy)[::-1])\n"
      ]
    },
    {
      "cell_type": "code",
      "execution_count": null,
      "id": "4231e729",
      "metadata": {
        "id": "4231e729",
        "colab": {
          "base_uri": "https://localhost:8080/"
        },
        "outputId": "84bf7a08-88b7-4aad-bb4b-e8f3b8bc4e99"
      },
      "outputs": [
        {
          "output_type": "stream",
          "name": "stdout",
          "text": [
            "First half: [1 2 3]\n",
            "Second half: [4 5 6]\n"
          ]
        }
      ],
      "source": [
        "# 🖊️ TODO: split `xy` back into two equal halves using `np.array_split`\n",
        "import numpy as np\n",
        "\n",
        "\n",
        "xy = np.array([1, 2, 3, 4, 5, 6])  # or a 2D array\n",
        "\n",
        "halves = np.array_split(xy, 2)\n",
        "\n",
        "\n",
        "first_half, second_half = halves\n",
        "\n",
        "print(\"First half:\", first_half)\n",
        "print(\"Second half:\", second_half)\n"
      ]
    },
    {
      "cell_type": "markdown",
      "id": "e6ebeb68",
      "metadata": {
        "id": "e6ebeb68"
      },
      "source": [
        "## <a name='arithmetic'></a>7️⃣ Arithmetic Ops & Universal Functions"
      ]
    },
    {
      "cell_type": "code",
      "execution_count": null,
      "id": "04a6eda9",
      "metadata": {
        "id": "04a6eda9"
      },
      "outputs": [],
      "source": [
        "v = np.arange(5)\n",
        "print('exp', np.exp(v))\n",
        "print('sin', np.sin(v))\n",
        "print('vectorised addition', v + 10)\n"
      ]
    },
    {
      "cell_type": "code",
      "execution_count": null,
      "id": "c011f422",
      "metadata": {
        "id": "c011f422",
        "colab": {
          "base_uri": "https://localhost:8080/"
        },
        "outputId": "a19a3fb2-c0dd-4e68-894d-2de7546abc0d"
      },
      "outputs": [
        {
          "output_type": "stream",
          "name": "stdout",
          "text": [
            "Radians: [0.         0.52359878 0.78539816 1.04719755 1.57079633]\n",
            "Sine values: [0.         0.5        0.70710678 0.8660254  1.        ]\n"
          ]
        }
      ],
      "source": [
        "# 🖊️ TODO: given degrees [0,30,45,60,90], compute radians and sin values.\n",
        "import numpy as np\n",
        "\n",
        "\n",
        "degrees = np.array([0, 30, 45, 60, 90])\n",
        "\n",
        "\n",
        "radians = np.radians(degrees)\n",
        "sin_values = np.sin(radians)\n",
        "\n",
        "print(\"Radians:\", radians)\n",
        "print(\"Sine values:\", sin_values)\n",
        "\n"
      ]
    },
    {
      "cell_type": "markdown",
      "id": "7c9a5d70",
      "metadata": {
        "id": "7c9a5d70"
      },
      "source": [
        "## <a name='broadcast'></a>8️⃣ Broadcasting Rules"
      ]
    },
    {
      "cell_type": "markdown",
      "id": "aba2764d",
      "metadata": {
        "id": "aba2764d"
      },
      "source": [
        "Rules: compare dimensions from right → left; stretch size 1 dims; mismatch error."
      ]
    },
    {
      "cell_type": "code",
      "execution_count": null,
      "id": "6313899c",
      "metadata": {
        "id": "6313899c",
        "colab": {
          "base_uri": "https://localhost:8080/"
        },
        "outputId": "c7d2e4c1-5ca0-4744-99f9-db4ac78fa230"
      },
      "outputs": [
        {
          "output_type": "stream",
          "name": "stdout",
          "text": [
            "[[0 1 2 3 4]\n",
            " [1 2 3 4 5]\n",
            " [2 3 4 5 6]]\n"
          ]
        }
      ],
      "source": [
        "row = np.arange(5)\n",
        "col = np.arange(3).reshape(3,1)\n",
        "matrix = row + col  # broadcast to 3×5\n",
        "print(matrix)\n"
      ]
    },
    {
      "cell_type": "code",
      "source": [
        "import numpy as np\n",
        "\n",
        "\n",
        "nums = np.arange(1, 11)\n",
        "\n",
        "\n",
        "table = nums[:, np.newaxis] * nums\n",
        "\n",
        "print(\"10×10 Multiplication Table:\\n\", table)"
      ],
      "metadata": {
        "colab": {
          "base_uri": "https://localhost:8080/"
        },
        "id": "E7wafmKbD2BR",
        "outputId": "94da5616-1ca9-497b-a8f9-8cd405a090de"
      },
      "id": "E7wafmKbD2BR",
      "execution_count": null,
      "outputs": [
        {
          "output_type": "stream",
          "name": "stdout",
          "text": [
            "10×10 Multiplication Table:\n",
            " [[  1   2   3   4   5   6   7   8   9  10]\n",
            " [  2   4   6   8  10  12  14  16  18  20]\n",
            " [  3   6   9  12  15  18  21  24  27  30]\n",
            " [  4   8  12  16  20  24  28  32  36  40]\n",
            " [  5  10  15  20  25  30  35  40  45  50]\n",
            " [  6  12  18  24  30  36  42  48  54  60]\n",
            " [  7  14  21  28  35  42  49  56  63  70]\n",
            " [  8  16  24  32  40  48  56  64  72  80]\n",
            " [  9  18  27  36  45  54  63  72  81  90]\n",
            " [ 10  20  30  40  50  60  70  80  90 100]]\n"
          ]
        }
      ]
    },
    {
      "cell_type": "markdown",
      "id": "38a618c8",
      "metadata": {
        "id": "38a618c8"
      },
      "source": [
        "## <a name='stats'></a>9️⃣ Statistics & Aggregations"
      ]
    },
    {
      "cell_type": "code",
      "execution_count": null,
      "id": "af9ac70d",
      "metadata": {
        "id": "af9ac70d"
      },
      "outputs": [],
      "source": [
        "data = np.random.default_rng(0).integers(1, 100, size=(5,4))\n",
        "print('data\\n', data)\n",
        "print('row sums', data.sum(axis=1))\n",
        "print('col means', data.mean(axis=0))\n"
      ]
    },
    {
      "cell_type": "code",
      "execution_count": null,
      "id": "63adf5be",
      "metadata": {
        "id": "63adf5be",
        "colab": {
          "base_uri": "https://localhost:8080/"
        },
        "outputId": "fa67e904-1d42-4190-f83f-6f539e6e8bcc"
      },
      "outputs": [
        {
          "output_type": "stream",
          "name": "stdout",
          "text": [
            "25th percentile: 22.5\n",
            "50th percentile (median): 35.0\n",
            "75th percentile: 47.5\n"
          ]
        }
      ],
      "source": [
        "\n",
        "import numpy as np\n",
        "\n",
        "data = np.array([[10, 20, 30],\n",
        "                 [40, 50, 60]])\n",
        "flattened = data.flatten()\n",
        "percentiles = np.percentile(flattened, [25, 50, 75])\n",
        "\n",
        "print(\"25th percentile:\", percentiles[0])\n",
        "print(\"50th percentile (median):\", percentiles[1])\n",
        "print(\"75th percentile:\", percentiles[2])\n",
        "\n"
      ]
    },
    {
      "cell_type": "markdown",
      "source": [],
      "metadata": {
        "id": "BedXoOwIEujl"
      },
      "id": "BedXoOwIEujl"
    },
    {
      "cell_type": "markdown",
      "id": "8f3c00d7",
      "metadata": {
        "id": "8f3c00d7"
      },
      "source": [
        "## <a name='random'></a>🔟 Random Numbers & Reproducibility"
      ]
    },
    {
      "cell_type": "code",
      "execution_count": null,
      "id": "98016975",
      "metadata": {
        "id": "98016975"
      },
      "outputs": [],
      "source": [
        "rng = np.random.default_rng(42)\n",
        "rand_floats = rng.random(5)\n",
        "rand_ints = rng.integers(low=10, high=50, size=5)\n",
        "print(rand_floats, rand_ints)\n",
        "rng2 = np.random.default_rng(42)\n",
        "assert np.allclose(rand_floats, rng2.random(5))\n"
      ]
    },
    {
      "cell_type": "code",
      "execution_count": 1,
      "id": "35dbadba",
      "metadata": {
        "id": "35dbadba",
        "colab": {
          "base_uri": "https://localhost:8080/"
        },
        "outputId": "9422eff5-493f-4bd1-ea2f-ae7ee04bd5da"
      },
      "outputs": [
        {
          "output_type": "stream",
          "name": "stdout",
          "text": [
            "Number of 6s: 25\n",
            "Proportion of 6s: 0.25\n"
          ]
        }
      ],
      "source": [
        "# 🖊️ TODO: simulate rolling a fair six‑sided die 100 times; estimate proportion of 6s.\n",
        "import numpy as np\n",
        "rolls = np.random.randint(1, 7, size=100)\n",
        "num_sixes = np.count_nonzero(rolls == 6)\n",
        "proportion = num_sixes / 100\n",
        "\n",
        "print(\"Number of 6s:\", num_sixes)\n",
        "print(\"Proportion of 6s:\", proportion)\n",
        "\n"
      ]
    },
    {
      "cell_type": "markdown",
      "id": "6cdb04b2",
      "metadata": {
        "id": "6cdb04b2"
      },
      "source": [
        "## <a name='structured'></a>1️⃣1️⃣ Structured / Record Arrays"
      ]
    },
    {
      "cell_type": "code",
      "execution_count": null,
      "id": "d8f64e42",
      "metadata": {
        "id": "d8f64e42"
      },
      "outputs": [],
      "source": [
        "people = np.array([('Alice', 25, 55.0), ('Bob', 30, 85.5)],\n",
        "                   dtype=[('name','U10'), ('age','i4'), ('weight','f4')])\n",
        "print(people['name'], people['age'].mean())\n"
      ]
    },
    {
      "cell_type": "code",
      "execution_count": 2,
      "id": "7a65fe1d",
      "metadata": {
        "id": "7a65fe1d",
        "colab": {
          "base_uri": "https://localhost:8080/"
        },
        "outputId": "26d23ad2-d557-4135-c3ac-11109f259989"
      },
      "outputs": [
        {
          "output_type": "stream",
          "name": "stdout",
          "text": [
            "[(1, 'Alice', 160. ) (2, 'Bob', 175.5)]\n"
          ]
        }
      ],
      "source": [
        "# 🖊️ TODO: add a new field 'height' to the structured array using `np.lib.recfunctions.append_fields` (hint: pip install?).\n",
        "import numpy as np\n",
        "from numpy.lib import recfunctions as rfn\n",
        "data = np.array([(1, 'Alice'), (2, 'Bob')],\n",
        "                dtype=[('id', 'i4'), ('name', 'U10')])\n",
        "heights = [160.0, 175.5]\n",
        "new_data = rfn.append_fields(data, 'height', heights, dtypes='f4', usemask=False)\n",
        "print(new_data)\n"
      ]
    },
    {
      "cell_type": "markdown",
      "id": "df5b617b",
      "metadata": {
        "id": "df5b617b"
      },
      "source": [
        "## <a name='linalg'></a>1️⃣2️⃣ Linear Algebra Essentials"
      ]
    },
    {
      "cell_type": "code",
      "execution_count": null,
      "id": "3f7fb475",
      "metadata": {
        "id": "3f7fb475",
        "colab": {
          "base_uri": "https://localhost:8080/"
        },
        "outputId": "c28e6785-7b2d-490e-d6c8-a6fa99a27e6f"
      },
      "outputs": [
        {
          "output_type": "stream",
          "name": "stdout",
          "text": [
            "A·x ≈ b? True\n"
          ]
        }
      ],
      "source": [
        "A = np.random.random((3,3))\n",
        "b = np.random.random(3)\n",
        "x = np.linalg.solve(A, b)\n",
        "print('A·x ≈ b?', np.allclose(A.dot(x), b))\n"
      ]
    },
    {
      "cell_type": "code",
      "execution_count": null,
      "id": "a8fb02d7",
      "metadata": {
        "id": "a8fb02d7",
        "colab": {
          "base_uri": "https://localhost:8080/"
        },
        "outputId": "6dff439e-a0b9-4a83-abab-21becff2b88e"
      },
      "outputs": [
        {
          "output_type": "stream",
          "name": "stdout",
          "text": [
            "Matrix A:\n",
            " [[0.42110465 0.54670858 0.11460936]\n",
            " [0.36456686 0.10849575 0.36574886]\n",
            " [0.2078681  0.97005772 0.94404827]]\n",
            "\n",
            "Eigenvalues:\n",
            " [ 1.38489503  0.44081135 -0.35205772]\n",
            "\n",
            "Eigenvectors (columns):\n",
            " [[-0.29932932 -0.76739528  0.45567076]\n",
            " [-0.34086223 -0.1579329  -0.74616877]\n",
            " [-0.89118735  0.62141908  0.48538266]]\n"
          ]
        }
      ],
      "source": [
        "# 🖊️ TODO: compute eigenvalues of `A` using `np.linalg.eig`.\n",
        "import numpy as np\n",
        "\n",
        "A = np.random.random((3,3))\n",
        "eigenvalues, eigenvectors = np.linalg.eig(A)\n",
        "\n",
        "print(\"Matrix A:\\n\", A)\n",
        "print(\"\\nEigenvalues:\\n\", eigenvalues)\n",
        "print(\"\\nEigenvectors (columns):\\n\", eigenvectors)\n",
        "\n"
      ]
    },
    {
      "cell_type": "markdown",
      "id": "e8fd753c",
      "metadata": {
        "id": "e8fd753c"
      },
      "source": [
        "## <a name='io'></a>1️⃣3️⃣ File I/O (`npy`, `npz`, `txt`)"
      ]
    },
    {
      "cell_type": "code",
      "execution_count": null,
      "id": "bd6dc026",
      "metadata": {
        "id": "bd6dc026"
      },
      "outputs": [],
      "source": [
        "np.save('array.npy', A)\n",
        "loaded = np.load('array.npy')\n",
        "print('loaded equals A?', np.allclose(loaded, A))\n",
        "np.savez('multi_arrays.npz', A=A, b=b)\n"
      ]
    },
    {
      "cell_type": "code",
      "execution_count": 3,
      "id": "d9552893",
      "metadata": {
        "id": "d9552893",
        "colab": {
          "base_uri": "https://localhost:8080/"
        },
        "outputId": "5281f50e-8e54-44e7-d8b8-273e4db0fa7b"
      },
      "outputs": [
        {
          "output_type": "stream",
          "name": "stdout",
          "text": [
            "Original Data:\n",
            " [[0.7027703  0.64231811 0.93188002]\n",
            " [0.30344017 0.3850412  0.94693833]\n",
            " [0.5219807  0.7920882  0.00134104]\n",
            " [0.70958369 0.85581989 0.20248715]\n",
            " [0.16570193 0.54672754 0.50318834]]\n",
            "\n",
            "Reloaded Data:\n",
            " [[0.7028 0.6423 0.9319]\n",
            " [0.3034 0.385  0.9469]\n",
            " [0.522  0.7921 0.0013]\n",
            " [0.7096 0.8558 0.2025]\n",
            " [0.1657 0.5467 0.5032]]\n"
          ]
        }
      ],
      "source": [
        "# 🖊️ TODO: Use `np.savetxt` to write `data` (from stats section) to CSV then reload with `np.loadtxt`.\n",
        "import numpy as np\n",
        "data = np.random.rand(5, 3)\n",
        "np.savetxt(\"data.csv\", data, delimiter=\",\", fmt=\"%.4f\")\n",
        "\n",
        "loaded_data = np.loadtxt(\"data.csv\", delimiter=\",\")\n",
        "\n",
        "print(\"Original Data:\\n\", data)\n",
        "print(\"\\nReloaded Data:\\n\", loaded_data)\n",
        "\n"
      ]
    },
    {
      "cell_type": "markdown",
      "id": "f24f33e3",
      "metadata": {
        "id": "f24f33e3"
      },
      "source": [
        "## <a name='datetime'></a>1️⃣4️⃣ Datetime64 & Timedelta64"
      ]
    },
    {
      "cell_type": "code",
      "execution_count": 13,
      "id": "3ce7b543",
      "metadata": {
        "id": "3ce7b543",
        "colab": {
          "base_uri": "https://localhost:8080/"
        },
        "outputId": "ac7a5c35-abc7-411f-9c07-ca72fbe42710"
      },
      "outputs": [
        {
          "output_type": "stream",
          "name": "stdout",
          "text": [
            "['2023-01-01' '2023-01-02' '2023-01-03' '2023-01-04' '2023-01-05'] 1 days\n",
            "Number of Mondays: 13\n"
          ]
        }
      ],
      "source": [
        "dates = np.arange('2023-01', '2023-04', dtype='datetime64[D]')\n",
        "delta = dates[1:] - dates[:-1]\n",
        "print(dates[:5], delta[0])\n",
        "weekdays = dates.astype('datetime64[D]').astype(int) % 7\n",
        "num_mondays = np.count_nonzero(weekdays == 0)\n",
        "print(\"Number of Mondays:\", num_mondays)\n",
        "\n"
      ]
    },
    {
      "cell_type": "code",
      "execution_count": 4,
      "id": "e493d6f8",
      "metadata": {
        "id": "e493d6f8",
        "colab": {
          "base_uri": "https://localhost:8080/"
        },
        "outputId": "82c9e66a-f811-4d6b-af41-d80e6cbaac92"
      },
      "outputs": [
        {
          "output_type": "stream",
          "name": "stdout",
          "text": [
            "Number of Mondays: 52\n"
          ]
        }
      ],
      "source": [
        "# 🖊️ TODO: find how many Mondays appear in `dates` array.\n",
        "import numpy as np\n",
        "dates = np.arange('2024-01-01', '2024-12-31', dtype='datetime64[D]')\n",
        "\n",
        "weekdays = dates.astype('datetime64[D]').astype(int) % 7\n",
        "mondays = dates[np.datetime_as_string(dates, unit='D') != '']\n",
        "num_mondays = np.sum(dates.astype('datetime64[D]').view('int64') % 7 == 0)\n",
        "\n",
        "print(\"Number of Mondays:\", num_mondays)\n",
        "\n"
      ]
    },
    {
      "cell_type": "markdown",
      "id": "636116b9",
      "metadata": {
        "id": "636116b9"
      },
      "source": [
        "## <a name='mask'></a>1️⃣5️⃣ Masked Arrays & NaNs"
      ]
    },
    {
      "cell_type": "code",
      "execution_count": null,
      "id": "ec30b3ee",
      "metadata": {
        "id": "ec30b3ee"
      },
      "outputs": [],
      "source": [
        "arr = np.array([1, 2, np.nan, 4, np.nan])\n",
        "masked = np.ma.masked_invalid(arr)\n",
        "print(masked.mean())\n"
      ]
    },
    {
      "cell_type": "code",
      "execution_count": 6,
      "id": "1ead3a9c",
      "metadata": {
        "id": "1ead3a9c",
        "colab": {
          "base_uri": "https://localhost:8080/"
        },
        "outputId": "34a99345-d75d-405c-b177-279f40ba1b58"
      },
      "outputs": [
        {
          "output_type": "stream",
          "name": "stdout",
          "text": [
            "After replacing NaNs with column means:\n",
            " [[1.  2.  7.5]\n",
            " [4.  5.  6. ]\n",
            " [7.  8.  9. ]]\n"
          ]
        }
      ],
      "source": [
        "# 🖊️ TODO: replace NaNs with column means in a 2‑D array containing NaNs.\n",
        "import numpy as np\n",
        "\n",
        "arr = np.array([\n",
        "    [1, 2, np.nan],\n",
        "    [4, np.nan, 6],\n",
        "    [7, 8, 9]\n",
        "], dtype='float')\n",
        "arr = np.where(np.isnan(arr), np.nanmean(arr, axis=0), arr)\n",
        "\n",
        "print(\"After replacing NaNs with column means:\\n\", arr)\n",
        "\n"
      ]
    },
    {
      "cell_type": "markdown",
      "id": "509e6104",
      "metadata": {
        "id": "509e6104"
      },
      "source": [
        "## <a name='project'></a>1️⃣6️⃣ Mini‑Project: Fitness Data Analysis"
      ]
    },
    {
      "cell_type": "markdown",
      "id": "d867d3a6",
      "metadata": {
        "id": "d867d3a6"
      },
      "source": [
        "Load `fitness.txt` (tab‑separated) then follow prompts."
      ]
    },
    {
      "cell_type": "markdown",
      "source": [],
      "metadata": {
        "id": "6T4SdMjHE01P"
      },
      "id": "6T4SdMjHE01P"
    },
    {
      "cell_type": "code",
      "execution_count": null,
      "id": "593e50db",
      "metadata": {
        "id": "593e50db"
      },
      "outputs": [],
      "source": [
        "fitness = np.genfromtxt('fitness.txt', delimiter='\\t', dtype=None, encoding=None, names=True)\n",
        "print('columns:', fitness.dtype.names, 'rows:', len(fitness))\n"
      ]
    },
    {
      "cell_type": "code",
      "source": [
        "from google.colab import drive\n",
        "drive.mount('/content/drive')"
      ],
      "metadata": {
        "colab": {
          "base_uri": "https://localhost:8080/"
        },
        "id": "I2K80540fBVc",
        "outputId": "0f980af1-67eb-45d8-d769-a154bd098ed7"
      },
      "id": "I2K80540fBVc",
      "execution_count": 9,
      "outputs": [
        {
          "output_type": "stream",
          "name": "stdout",
          "text": [
            "Mounted at /content/drive\n"
          ]
        }
      ]
    },
    {
      "cell_type": "code",
      "execution_count": 10,
      "id": "32e514d2",
      "metadata": {
        "id": "32e514d2",
        "colab": {
          "base_uri": "https://localhost:8080/"
        },
        "outputId": "abb3c5d3-280e-4621-8c44-9b415ca4a7de"
      },
      "outputs": [
        {
          "output_type": "stream",
          "name": "stdout",
          "text": [
            "Month 01-01-2: Total steps = 299\n",
            "Month 01-11-2: Total steps = 4435\n",
            "Month 01-12-2: Total steps = 774\n",
            "Month 02-01-2: Total steps = 1447\n",
            "Month 02-11-2: Total steps = 4779\n",
            "Month 02-12-2: Total steps = 1421\n",
            "Month 03-01-2: Total steps = 2599\n",
            "Month 03-11-2: Total steps = 1831\n",
            "Month 03-12-2: Total steps = 4064\n",
            "Month 04-01-2: Total steps = 702\n",
            "Month 04-11-2: Total steps = 2255\n",
            "Month 04-12-2: Total steps = 2725\n",
            "Month 05-01-2: Total steps = 133\n",
            "Month 05-11-2: Total steps = 539\n",
            "Month 05-12-2: Total steps = 5934\n",
            "Month 06-01-2: Total steps = 153\n",
            "Month 06-10-2: Total steps = 5464\n",
            "Month 06-11-2: Total steps = 5464\n",
            "Month 06-12-2: Total steps = 1867\n",
            "Month 07-01-2: Total steps = 500\n",
            "Month 07-10-2: Total steps = 6041\n",
            "Month 07-11-2: Total steps = 6041\n",
            "Month 07-12-2: Total steps = 3721\n",
            "Month 08-01-2: Total steps = 2127\n",
            "Month 08-10-2: Total steps = 25\n",
            "Month 08-11-2: Total steps = 4068\n",
            "Month 08-12-2: Total steps = 2374\n",
            "Month 09-01-2: Total steps = 2203\n",
            "Month 09-10-2: Total steps = 5461\n",
            "Month 09-11-2: Total steps = 4683\n",
            "Month 09-12-2: Total steps = 2909\n",
            "Month 10-10-2: Total steps = 6915\n",
            "Month 10-11-2: Total steps = 4033\n",
            "Month 10-12-2: Total steps = 1648\n",
            "Month 11-10-2: Total steps = 4545\n",
            "Month 11-11-2: Total steps = 6314\n",
            "Month 11-12-2: Total steps = 799\n",
            "Month 12-10-2: Total steps = 4340\n",
            "Month 12-11-2: Total steps = 614\n",
            "Month 12-12-2: Total steps = 7102\n",
            "Month 13-10-2: Total steps = 1230\n",
            "Month 13-11-2: Total steps = 3149\n",
            "Month 13-12-2: Total steps = 3941\n",
            "Month 14-10-2: Total steps = 61\n",
            "Month 14-11-2: Total steps = 4005\n",
            "Month 14-12-2: Total steps = 7422\n",
            "Month 15-10-2: Total steps = 1258\n",
            "Month 15-11-2: Total steps = 4880\n",
            "Month 15-12-2: Total steps = 437\n",
            "Month 16-10-2: Total steps = 3148\n",
            "Month 16-11-2: Total steps = 4136\n",
            "Month 16-12-2: Total steps = 1231\n",
            "Month 17-10-2: Total steps = 4687\n",
            "Month 17-11-2: Total steps = 705\n",
            "Month 17-12-2: Total steps = 1696\n",
            "Month 18-10-2: Total steps = 4732\n",
            "Month 18-11-2: Total steps = 570\n",
            "Month 18-12-2: Total steps = 4921\n",
            "Month 19-10-2: Total steps = 3519\n",
            "Month 19-11-2: Total steps = 269\n",
            "Month 19-12-2: Total steps = 221\n",
            "Month 20-10-2: Total steps = 1580\n",
            "Month 20-11-2: Total steps = 4275\n",
            "Month 20-12-2: Total steps = 6500\n",
            "Month 21-10-2: Total steps = 2822\n",
            "Month 21-11-2: Total steps = 5999\n",
            "Month 21-12-2: Total steps = 3575\n",
            "Month 22-10-2: Total steps = 181\n",
            "Month 22-11-2: Total steps = 4421\n",
            "Month 22-12-2: Total steps = 4061\n",
            "Month 23-10-2: Total steps = 3158\n",
            "Month 23-11-2: Total steps = 6930\n",
            "Month 23-12-2: Total steps = 651\n",
            "Month 24-10-2: Total steps = 4383\n",
            "Month 24-11-2: Total steps = 5195\n",
            "Month 24-12-2: Total steps = 753\n",
            "Month 25-10-2: Total steps = 3881\n",
            "Month 25-11-2: Total steps = 546\n",
            "Month 25-12-2: Total steps = 518\n",
            "Month 26-10-2: Total steps = 4037\n",
            "Month 26-11-2: Total steps = 493\n",
            "Month 26-12-2: Total steps = 5537\n",
            "Month 27-10-2: Total steps = 202\n",
            "Month 27-11-2: Total steps = 995\n",
            "Month 27-12-2: Total steps = 4108\n",
            "Month 28-10-2: Total steps = 292\n",
            "Month 28-11-2: Total steps = 1163\n",
            "Month 28-12-2: Total steps = 5376\n",
            "Month 29-10-2: Total steps = 330\n",
            "Month 29-11-2: Total steps = 6676\n",
            "Month 29-12-2: Total steps = 3066\n",
            "Month 30-10-2: Total steps = 2209\n",
            "Month 30-11-2: Total steps = 3608\n",
            "Month 30-12-2: Total steps = 177\n",
            "Month 31-10-2: Total steps = 4550\n",
            "Month 31-12-2: Total steps = 36\n",
            "Sleep vs mood correlation: 0.2104166644730015\n",
            "Week 2017-10-05: Avg steps = 4741.833333333333\n",
            "Week 2017-10-12: Avg steps = 2779.4285714285716\n",
            "Week 2017-10-19: Avg steps = 2789.1428571428573\n",
            "Week 2017-10-26: Avg steps = 2293.5714285714284\n",
            "Week 2017-11-02: Avg steps = 3568.1428571428573\n",
            "Week 2017-11-09: Avg steps = 3954.0\n",
            "Week 2017-11-16: Avg steps = 2910.714285714286\n",
            "Week 2017-11-23: Avg steps = 3142.5714285714284\n",
            "Week 2017-11-30: Avg steps = 2913.285714285714\n",
            "Week 2017-12-07: Avg steps = 3213.4285714285716\n",
            "Week 2017-12-14: Avg steps = 3204.0\n",
            "Week 2017-12-21: Avg steps = 2743.285714285714\n",
            "Week 2017-12-28: Avg steps = 1857.142857142857\n",
            "Week 2018-01-04: Avg steps = 969.6666666666666\n"
          ]
        }
      ],
      "source": [
        "# 🖊️ TODO: Monthly step count, sleep vs mood correlation, weekly summary, etc.\n",
        "months = np.array([d[:7] for d in fitness['date']])\n",
        "unique_months = np.unique(months)\n",
        "for m in unique_months:\n",
        "    total_steps = fitness['step_count'][months == m].sum()\n",
        "    print(f\"Month {m}: Total steps = {total_steps}\")\n",
        "\n",
        "sleep_mood_corr = np.corrcoef(fitness['hours_of_sleep'], fitness['mood'])[0,1]\n",
        "print(\"Sleep vs mood correlation:\", sleep_mood_corr)\n",
        "\n",
        "# Weekly summary\n",
        "import pandas as pd\n",
        "dates_pd = pd.to_datetime(fitness['date'], format=\"%d-%m-%Y\")\n",
        "weeks = dates_pd.values.astype('datetime64[W]')\n",
        "unique_weeks = np.unique(weeks)\n",
        "for w in unique_weeks:\n",
        "    avg_steps = fitness['step_count'][weeks == w].mean()\n",
        "    print(f\"Week {w}: Avg steps = {avg_steps}\")\n",
        "\n",
        "\n"
      ]
    },
    {
      "cell_type": "markdown",
      "id": "e7c0e1dc",
      "metadata": {
        "id": "e7c0e1dc"
      },
      "source": [
        "## <a name='conclusion'></a>1️⃣7️⃣ Conclusion & Further Practice\n",
        "Congrats on covering **all core NumPy topics** from your five lecture notebooks!\n",
        "\n",
        "*Keep experimenting, read the official docs, and try converting your NumPy pipelines into Pandas or JAX for more fun.*"
      ]
    }
  ],
  "metadata": {
    "colab": {
      "provenance": []
    },
    "language_info": {
      "name": "python"
    },
    "kernelspec": {
      "name": "python3",
      "display_name": "Python 3"
    }
  },
  "nbformat": 4,
  "nbformat_minor": 5
}